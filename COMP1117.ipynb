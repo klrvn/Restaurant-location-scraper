{
  "nbformat": 4,
  "nbformat_minor": 0,
  "metadata": {
    "colab": {
      "private_outputs": true,
      "provenance": [],
      "toc_visible": true,
      "authorship_tag": "ABX9TyNLY1P6NBCWvGcSRpZZeIjV",
      "include_colab_link": true
    },
    "kernelspec": {
      "name": "python3",
      "display_name": "Python 3"
    },
    "language_info": {
      "name": "python"
    }
  },
  "cells": [
    {
      "cell_type": "markdown",
      "metadata": {
        "id": "view-in-github",
        "colab_type": "text"
      },
      "source": [
        "<a href=\"https://colab.research.google.com/github/klrvn/Restaurant-location-scraper/blob/main/COMP1117.ipynb\" target=\"_parent\"><img src=\"https://colab.research.google.com/assets/colab-badge.svg\" alt=\"Open In Colab\"/></a>"
      ]
    },
    {
      "cell_type": "code",
      "execution_count": null,
      "metadata": {
        "id": "lHn8GfpjCDHi"
      },
      "outputs": [],
      "source": [
        "# List: create a 3x3 table\n",
        "\n",
        "table = [[], [], []]\n",
        "\n",
        "# Loop through each row and column to collect user input\n",
        "for row in range(3):\n",
        "    for col in range(3):\n",
        "        # Prompt user for input for each cell\n",
        "        user_input = input(f\"Enter content for cell ({row+1}, {col+1}): \")\n",
        "        table[row].append(user_input)\n",
        "\n",
        "# Display the table\n",
        "print(\"\\nYour 3x3 table:\")\n",
        "print(table)"
      ]
    },
    {
      "cell_type": "code",
      "source": [
        "#Tuple: a list but unchangeable. A constant list\n",
        "#Tuple cannot .append\n",
        "\n",
        "a = (3, 4, \"hu\")\n",
        "print(type(a))\n",
        "print(a)\n",
        "\n",
        "#another way of creating tuple\n",
        "b = 1,2,\"wow\"\n",
        "\n",
        "print(type(b))\n",
        "print(b)\n",
        "\n",
        "#you can convert list into tuple\n",
        "mylist = [1,2,3,4]\n",
        "mytuple = tuple(mylist)\n",
        "print(mytuple)"
      ],
      "metadata": {
        "id": "hsibOhgzJtC-"
      },
      "execution_count": null,
      "outputs": []
    },
    {
      "cell_type": "code",
      "source": [
        "#string is just a tuple of characters\n",
        "#string also cannot .append, just like tuples\n",
        "# str() can turn any list/tuples into a string\n",
        "mylist = [1,2,3,4]\n",
        "mystring = str(mylist)\n",
        "print(type(mystring))\n",
        "print(mystring)"
      ],
      "metadata": {
        "id": "M4-BN5omKQ00"
      },
      "execution_count": null,
      "outputs": []
    },
    {
      "cell_type": "code",
      "source": [
        "#set is a collection of values without order\n",
        "#index not supported\n",
        "\n",
        "# \"in\" operator\n",
        "\n",
        "myset = {\"bigd\",4,5,False}\n",
        "test = bool(False in myset)\n",
        "print(test)\n",
        "\n",
        "#or simple print like this\n",
        "6 in myset\n",
        "\n",
        "#tuples CAN appear in a set, lists CANNOT\n",
        "\n",
        "#set uses .add(), not .append()\n",
        "myset.add(\"apple\")\n",
        "print(myset)"
      ],
      "metadata": {
        "id": "wO31zrghL9e7"
      },
      "execution_count": null,
      "outputs": []
    },
    {
      "cell_type": "code",
      "source": [
        "from os import name\n",
        "#Dictionary: key:value pairs, no order\n",
        "namelist = {False:\"kevin is gay\", 67:\"Tsla future stock price\"}\n",
        "\n",
        "namelist[True]=\"Yolanda is pretty\"\n",
        "print(namelist)"
      ],
      "metadata": {
        "id": "LKpQqtnPNzIG"
      },
      "execution_count": null,
      "outputs": []
    },
    {
      "cell_type": "code",
      "source": [
        "price, paid= input().split()\n",
        "price = int(price)\n",
        "paid = int(paid)\n",
        "difference = paid - price\n",
        "\n",
        "fifty = difference//50\n",
        "difference = difference - fifty*50\n",
        "ten = difference//10\n",
        "difference = difference - ten*10\n",
        "five = difference//5\n",
        "difference = difference - five*5\n",
        "one = difference\n",
        "print(\"50:\",fifty)\n",
        "print(\"10:\",ten)\n",
        "print(\"5:\",five)\n",
        "print(\"1:\",one)"
      ],
      "metadata": {
        "id": "AceD6ShxGcXc"
      },
      "execution_count": null,
      "outputs": []
    },
    {
      "cell_type": "code",
      "source": [
        "year = int(input())\n",
        "\n",
        "if(year%400 ==0):\n",
        "   leap = True\n",
        "elif(year%100==0):\n",
        "    leap = False\n",
        "elif(year%4==0):\n",
        "   leap = True\n",
        "else:\n",
        "   leap = False\n",
        "\n",
        "if(leap == True):\n",
        "    print(\"Leap year\")\n",
        "else:\n",
        "    print(\"Not a leap year\")"
      ],
      "metadata": {
        "id": "G3zX7NlaHa0P"
      },
      "execution_count": null,
      "outputs": []
    },
    {
      "cell_type": "code",
      "source": [
        "import requests\n",
        "from bs4 import BeautifulSoup\n",
        "import pandas as pd\n",
        "import re\n",
        "\n",
        "\n",
        "locations = []\n",
        "for i in range (1,28):\n",
        "\n",
        "  # Step 1: Fetch the webpage\n",
        "  x = str(i)\n",
        "  url = 'https://www.tastegourmet.co/en_US/brand/'+x\n",
        "  response = requests.get(url)\n",
        "  soup = BeautifulSoup(response.text, 'html.parser')\n",
        "\n",
        "  # Step 2: Extract restaurant name from the page heading\n",
        "  restaurant_name_tag = soup.find('h1')\n",
        "  restaurant_name = restaurant_name_tag.text.strip() if restaurant_name_tag else 'Unknown'\n",
        "\n",
        "  # Remove leading \"About\" if present\n",
        "  restaurant_name = restaurant_name.replace('About', '').strip()\n",
        "\n",
        "  # Step 3: Extract raw text and isolate location blocks\n",
        "  text = soup.get_text()\n",
        "  pattern = rf'{restaurant_name} \\((.*?)\\)\\s+(Shop.*?)(?={restaurant_name}|\\Z)'\n",
        "  matches = re.findall(pattern, text, re.DOTALL)\n",
        "\n",
        "  # Step 3: Parse and clean data\n",
        "  for name, details in matches:\n",
        "    # Split at \"+852\" to separate address and phone\n",
        "    split_parts = details.strip().split('+852')\n",
        "    address = split_parts[0].strip()\n",
        "    phone = '+852' + split_parts[1].strip() if len(split_parts) > 1 else ''\n",
        "\n",
        "    locations.append({\n",
        "        'Branch': name.strip(),\n",
        "        'Address': address,\n",
        "        'Brand':restaurant_name\n",
        "    })\n",
        "\n",
        "\n",
        "# Step 4: Save to CSV\n",
        "df = pd.DataFrame(locations)\n",
        "print(df)\n",
        "\n",
        "df.to_csv('locations.csv', index=False)\n"
      ],
      "metadata": {
        "id": "4Iwt7wXPmDLC"
      },
      "execution_count": null,
      "outputs": []
    },
    {
      "cell_type": "code",
      "source": [
        "import math\n",
        "from itertools import combinations\n",
        "\n",
        "# Haversine formula to calculate distance between two lat/lon points\n",
        "def haversine(coord1, coord2):\n",
        "    R = 6371  # Earth radius in kilometers\n",
        "    lon1, lat1 = coord1\n",
        "    lon2, lat2 = coord2\n",
        "    phi1, phi2 = math.radians(lat1), math.radians(lat2)\n",
        "    dphi = math.radians(lat2 - lat1)\n",
        "    dlambda = math.radians(lon2 - lon1)\n",
        "\n",
        "    a = math.sin(dphi / 2)**2 + math.cos(phi1) * math.cos(phi2) * math.sin(dlambda / 2)**2\n",
        "    c = 2 * math.atan2(math.sqrt(a), math.sqrt(1 - a))\n",
        "\n",
        "    return R * c\n",
        "\n",
        "# List of coordinates (longitude, latitude)\n",
        "points = [\n",
        "    (114.1805421, 22.3735253),\n",
        "    (114.2314688, 22.4241633),\n",
        "    (114.1839629, 22.2795933),\n",
        "    (114.1116764, 22.3693253),\n",
        "    (113.9765973, 22.3930073)\n",
        "]\n",
        "\n",
        "# Calculate all pairwise distances\n",
        "distances = []\n",
        "for p1, p2 in combinations(points, 2):\n",
        "    distance = haversine(p1, p2)\n",
        "    distances.append(distance)\n",
        "\n",
        "# Output distances and average\n",
        "for i, d in enumerate(distances, 1):\n",
        "    print(f\"Distance {i}: {d:.2f} km\")\n",
        "\n",
        "average_distance = sum(distances) / len(distances)\n",
        "print(f\"\\nAverage distance: {average_distance:.2f} km\")\n"
      ],
      "metadata": {
        "id": "aHrU8EJWxhIT"
      },
      "execution_count": null,
      "outputs": []
    },
    {
      "cell_type": "code",
      "source": [
        "from google.colab import drive\n",
        "drive.mount('/content/drive')"
      ],
      "metadata": {
        "id": "nkAuU0E_mO8p"
      },
      "execution_count": null,
      "outputs": []
    }
  ]
}